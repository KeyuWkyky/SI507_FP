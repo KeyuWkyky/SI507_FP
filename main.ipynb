{
 "cells": [
  {
   "cell_type": "code",
   "execution_count": 1,
   "id": "2f0803ff",
   "metadata": {},
   "outputs": [],
   "source": [
    "import pickle\n",
    "import random"
   ]
  },
  {
   "cell_type": "code",
   "execution_count": 2,
   "id": "54e5b7fc",
   "metadata": {},
   "outputs": [],
   "source": [
    "# def main():"
   ]
  },
  {
   "cell_type": "code",
   "execution_count": 3,
   "id": "d17ca22d",
   "metadata": {},
   "outputs": [],
   "source": [
    "def wordFrequencies(text):\n",
    "    '''\n",
    "    create a dictionary of dictionaries(word graph)containing each word that appears in \n",
    "    the text and the number of times other words appear after it\n",
    "    '''\n",
    "    text_file = open (text, \"r\", encoding = 'utf-8')\n",
    "    word_dict = {}\n",
    "    previous = 'the'\n",
    "    for line in text_file:\n",
    "        words = line.split()\n",
    "        for word in words:\n",
    "            word = word.lower()\n",
    "            if previous in word_dict:\n",
    "                entry = word_dict[previous]\n",
    "                if word in entry :\n",
    "                    entry[word] += 1\n",
    "                else :\n",
    "                    entry[word] = 1\n",
    "            else:\n",
    "                word_dict[previous] = {word:1}\n",
    "            previous = word\n",
    "    return word_dict"
   ]
  },
  {
   "cell_type": "code",
   "execution_count": 4,
   "id": "bbf669d4",
   "metadata": {},
   "outputs": [],
   "source": [
    "def generateProbabilityList(Wordsdict) : \n",
    "    '''\n",
    "    Takes a dict namd Words and creates a list of words containing each key in the dict repeated\n",
    "    the number of times listed in the corresponding value of the times listed in the \n",
    "    corresponding value of the key.\n",
    "    '''\n",
    "    result = []\n",
    "    theList = Wordsdict.keys()\n",
    "    for i in theList : \n",
    "        for j in range(0, Wordsdict.get(i)) : \n",
    "            result = result + [i]\n",
    "    return result"
   ]
  },
  {
   "cell_type": "code",
   "execution_count": 6,
   "id": "5fab7e40",
   "metadata": {},
   "outputs": [],
   "source": [
    "syllablesDict = {}\n",
    "\n",
    "# read the file into a dictionary\n",
    "with open('syllable_data.txt', 'r', encoding='utf-8') as file:\n",
    "    for line in file:\n",
    "        word, syllables = line.strip().split(': ')\n",
    "        syllables = int(syllables)\n",
    "        syllablesDict[word] = syllables"
   ]
  },
  {
   "cell_type": "code",
   "execution_count": 7,
   "id": "854a4b8a",
   "metadata": {},
   "outputs": [],
   "source": [
    "def checkSyllables(theword, lineSyl, maxSyl):\n",
    "    '''\n",
    "    Check whether theWord that may be used next will make the sentence exceed the max syllable.\n",
    "    '''\n",
    "    sylCount = 0\n",
    "    try:\n",
    "        sylCount = syllablesDict.get(theword)\n",
    "        \n",
    "    except Exception as e:#when the word is not included in the syllablesDict\n",
    "        print(e)\n",
    "        return 0\n",
    "    if (sylCount is None) or (int(sylCount) + lineSyl > maxSyl):\n",
    "        return 0\n",
    "    else:\n",
    "        return sylCount"
   ]
  },
  {
   "cell_type": "code",
   "execution_count": 8,
   "id": "0a6bb02e",
   "metadata": {},
   "outputs": [],
   "source": [
    "def getLine(theWord, Wordsdict, totalSyllables) :\n",
    "    '''\n",
    "    Writes a line starting with Wordsdict and with a syllable length of totalSyllables\n",
    "using words from Wordsdict\n",
    "    '''\n",
    "    line = \"\"\n",
    "    # syllables represents the current length of line in syllables \n",
    "    syllables = 0\n",
    "    while(syllables < totalSyllables) : \n",
    "#         randomly selects a word that was next to theWord in the sample \n",
    "#         text, with a higher probability for words that ppear more \n",
    "#         frequently next to theWord\n",
    "        nextWordDict = Wordsdict.get(theWord)\n",
    "        probabilityList = generateProbabilityList(nextWordDict)\n",
    "        theWord = random.choice(probabilityList).lower()\n",
    "#         continues picking words that appeared next to theWord in the\n",
    "#         sample text until it finds a word that can be added to line\n",
    "#         without exceeding totalSyllables\n",
    "        numSyllables = checkSyllables(theWord, syllables, totalSyllables)\n",
    "        while (numSyllables == 0 and len(probabilityList) != 0) : \n",
    "            theWord = random.choice(probabilityList).lower()\n",
    "#         removes the word so that it doesn't waste time testing it again\n",
    "            probabilityList.remove(theWord)\n",
    "            numSyllables = checkSyllables(theWord, syllables, totalSyllables)\n",
    "#         if probabilityList is empty, that means all the words that appear\n",
    "#         next to theWord cannot fit in line without exceeding totalSyllables\n",
    "        if(len(probabilityList) == 0) : \n",
    "            return False\n",
    "        line += theWord + \" \"\n",
    "        syllables += int(numSyllables)\n",
    "#         Capitalize the first word in each line\n",
    "    return line[0].upper() + line[1:-1]"
   ]
  },
  {
   "cell_type": "code",
   "execution_count": 9,
   "id": "7c2579d6",
   "metadata": {},
   "outputs": [],
   "source": [
    "def writeline(theWord, Wordsdict, numSyl):\n",
    "    '''\n",
    "    repeatedly calls getLine until a valid line is generated. \n",
    "    '''\n",
    "    line = getLine(theWord, Wordsdict, numSyl)\n",
    "    if line == False : \n",
    "        while(line == False) : \n",
    "            line = getLine(theWord, Wordsdict, numSyl)\n",
    "        return line\n",
    "    else : \n",
    "        return line"
   ]
  },
  {
   "cell_type": "code",
   "execution_count": 10,
   "id": "e45ad67f",
   "metadata": {},
   "outputs": [],
   "source": [
    "def writeHaiku():\n",
    "    '''\n",
    "    Write a Haiku(a 3-line poe with a syllable structure of 5-7-5)\n",
    "    '''\n",
    "    print(\"The Haiku will be generated automaticlly with a start word!\")\n",
    "    f = 'poems1200.txt'\n",
    "    \n",
    "    try:\n",
    "        Wordsdict = wordFrequencies('poems1200.txt')\n",
    "    except IOError:\n",
    "        print(\"The raw file does't exist, please check the folder.\")\n",
    "        \n",
    "    while True:\n",
    "        print(\"Enter the word you would like to start with: \")\n",
    "        word1 = input().lower()\n",
    "        if not (word1 in Wordsdict and word1 in syllablesDict):\n",
    "            print(\"Please enter a more common used word\")\n",
    "            continue\n",
    "        else:\n",
    "            break\n",
    "    \n",
    "    poem = word1[0].upper() + word1[1:]+' '\n",
    "    firstWordSyllables = syllablesDict.get(word1)\n",
    "#     because firstWord is part of the first line of the poem, need to subtract\n",
    "#     the length of firstWord in syllables from the total syllable length of the\n",
    "#     line.\n",
    "    poem += writeline(word1.lower(), Wordsdict, 5 - firstWordSyllables).lower() + '\\n'\n",
    "    poem += writeline(poem[poem.rfind(' ')+1:-1], Wordsdict, 7) + '\\n'\n",
    "    poem += writeline(poem[poem.rfind(' ')+1:-1], Wordsdict, 5)\n",
    "    print (\"\\n\" + poem)"
   ]
  },
  {
   "cell_type": "code",
   "execution_count": 11,
   "id": "3dd4e25d",
   "metadata": {},
   "outputs": [
    {
     "name": "stdout",
     "output_type": "stream",
     "text": [
      "The Haiku will be generated automaticlly with a start word!\n",
      "Enter the word you would like to start with: \n",
      "kiss\n",
      "\n",
      "Kiss the same then and\n",
      "Broken while the parting sigh\n",
      "The devil then dear\n"
     ]
    }
   ],
   "source": [
    "writeHaiku()"
   ]
  }
 ],
 "metadata": {
  "kernelspec": {
   "display_name": "Python 3 (ipykernel)",
   "language": "python",
   "name": "python3"
  },
  "language_info": {
   "codemirror_mode": {
    "name": "ipython",
    "version": 3
   },
   "file_extension": ".py",
   "mimetype": "text/x-python",
   "name": "python",
   "nbconvert_exporter": "python",
   "pygments_lexer": "ipython3",
   "version": "3.9.13"
  }
 },
 "nbformat": 4,
 "nbformat_minor": 5
}
