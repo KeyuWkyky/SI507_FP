{
 "cells": [
  {
   "cell_type": "code",
   "execution_count": 5,
   "id": "a75df0ba",
   "metadata": {},
   "outputs": [],
   "source": [
    "import requests\n",
    "import os\n",
    "import json\n",
    "import re"
   ]
  },
  {
   "cell_type": "code",
   "execution_count": 6,
   "id": "5de9322d",
   "metadata": {},
   "outputs": [
    {
     "data": {
      "text/plain": [
       "<function TextIOWrapper.close()>"
      ]
     },
     "execution_count": 6,
     "metadata": {},
     "output_type": "execute_result"
    }
   ],
   "source": [
    "cache_path = 'shakespeare_sonnet.txt'\n",
    "if os.path.isfile(cache_path):\n",
    "    with open(cache_path,'r') as f:\n",
    "        data = f.read()\n",
    "else:\n",
    "    resp = requests.get('https://poetrydb.org/author,title/Shakespeare;Sonnet')\n",
    "    res_dict = resp.json()\n",
    "    with open(cache_path,'w')as f:\n",
    "        for i in res_dict:\n",
    "            for j in i['lines']:\n",
    "                f.write(j)\n",
    "f.close"
   ]
  },
  {
   "cell_type": "code",
   "execution_count": 7,
   "id": "202c0fd8",
   "metadata": {},
   "outputs": [],
   "source": [
    "def clean_file(file):\n",
    "    p = re.compile(r'[,.:;!*?/#$%^&]')\n",
    "    text = open(file, 'r').read()\n",
    "    text = p.sub(' ', text)\n",
    "    with open(file, 'w') as f:\n",
    "        f.write(text)"
   ]
  },
  {
   "cell_type": "code",
   "execution_count": 8,
   "id": "7a8d3720",
   "metadata": {},
   "outputs": [],
   "source": [
    "clean_file('shakespeare_sonnet.txt')"
   ]
  }
 ],
 "metadata": {
  "kernelspec": {
   "display_name": "Python 3 (ipykernel)",
   "language": "python",
   "name": "python3"
  },
  "language_info": {
   "codemirror_mode": {
    "name": "ipython",
    "version": 3
   },
   "file_extension": ".py",
   "mimetype": "text/x-python",
   "name": "python",
   "nbconvert_exporter": "python",
   "pygments_lexer": "ipython3",
   "version": "3.9.13"
  }
 },
 "nbformat": 4,
 "nbformat_minor": 5
}
