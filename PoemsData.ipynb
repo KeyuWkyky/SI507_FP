{
 "cells": [
  {
   "cell_type": "code",
   "execution_count": 13,
   "id": "a75df0ba",
   "metadata": {},
   "outputs": [],
   "source": [
    "import requests\n",
    "import os\n",
    "import json\n",
    "import re"
   ]
  },
  {
   "cell_type": "code",
   "execution_count": 14,
   "id": "5de9322d",
   "metadata": {},
   "outputs": [
    {
     "data": {
      "text/plain": [
       "<function TextIOWrapper.close()>"
      ]
     },
     "execution_count": 14,
     "metadata": {},
     "output_type": "execute_result"
    }
   ],
   "source": [
    "cache_path = 'poems1200.txt'\n",
    "if os.path.isfile(cache_path):\n",
    "    with open(cache_path,'r', encoding = 'utf-8') as f:\n",
    "        data = f.read()\n",
    "else:\n",
    "    resp = requests.get('https://poetrydb.org/title,random/Sonnet;1200')\n",
    "    res_dict = resp.json()\n",
    "    lst = ['i','to','there','o','of','to','is','are','--','on','in']\n",
    "    with open(cache_path,'w', encoding = 'utf-8')as f:\n",
    "        for i in res_dict:\n",
    "            for j in i['lines']:\n",
    "                if not j in lst:\n",
    "                    f.write(j)\n",
    "f.close"
   ]
  },
  {
   "cell_type": "code",
   "execution_count": 19,
   "id": "202c0fd8",
   "metadata": {},
   "outputs": [],
   "source": [
    "def clean_file(file):\n",
    "    p = re.compile(r'[,.:;!*?/#$—%^&()\\[\\]_-]')\n",
    "    text = open(file, 'r', encoding = 'utf-8').read()\n",
    "    text = p.sub(' ', text)\n",
    "    with open(file, 'w', encoding = 'utf-8') as f:\n",
    "        f.write(text.lower())"
   ]
  },
  {
   "cell_type": "code",
   "execution_count": 20,
   "id": "7a8d3720",
   "metadata": {},
   "outputs": [],
   "source": [
    "clean_file('poems1200.txt')"
   ]
  }
 ],
 "metadata": {
  "kernelspec": {
   "display_name": "Python 3 (ipykernel)",
   "language": "python",
   "name": "python3"
  },
  "language_info": {
   "codemirror_mode": {
    "name": "ipython",
    "version": 3
   },
   "file_extension": ".py",
   "mimetype": "text/x-python",
   "name": "python",
   "nbconvert_exporter": "python",
   "pygments_lexer": "ipython3",
   "version": "3.9.13"
  }
 },
 "nbformat": 4,
 "nbformat_minor": 5
}
