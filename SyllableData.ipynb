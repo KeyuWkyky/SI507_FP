{
 "cells": [
  {
   "cell_type": "code",
   "execution_count": 8,
   "id": "fba21afc",
   "metadata": {},
   "outputs": [],
   "source": [
    "import requests\n",
    "import re"
   ]
  },
  {
   "cell_type": "code",
   "execution_count": null,
   "id": "f5edb970",
   "metadata": {},
   "outputs": [],
   "source": [
    "url = \"http://svn.code.sf.net/p/cmusphinx/code/trunk/cmudict/cmudict-0.7b\"\n",
    "\n",
    "# download and decode the data\n",
    "content = requests.get(url).content.decode('ISO-8859-1')\n",
    "\n",
    "syllable_dict = {}\n",
    "\n",
    "# extract word and syllable count\n",
    "for line in content.splitlines():\n",
    "    if not line.startswith(';;;'):\n",
    "        word, phones = line.split('  ')\n",
    "        syllables = len(re.findall(r'\\d', phones))\n",
    "        syllable_dict[word.lower()] = syllables\n",
    "\n",
    "# save the dictionary as a text file\n",
    "with open('syllable_data.txt', 'w', encoding='utf-8') as file:\n",
    "    for word, syllables in syllable_dict.items():\n",
    "        file.write(f\"{word}: {syllables}\\n\")\n"
   ]
  }
 ],
 "metadata": {
  "kernelspec": {
   "display_name": "Python 3 (ipykernel)",
   "language": "python",
   "name": "python3"
  },
  "language_info": {
   "codemirror_mode": {
    "name": "ipython",
    "version": 3
   },
   "file_extension": ".py",
   "mimetype": "text/x-python",
   "name": "python",
   "nbconvert_exporter": "python",
   "pygments_lexer": "ipython3",
   "version": "3.9.13"
  }
 },
 "nbformat": 4,
 "nbformat_minor": 5
}
